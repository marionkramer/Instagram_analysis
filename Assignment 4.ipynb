{
 "cells": [
  {
   "cell_type": "code",
   "execution_count": 1,
   "metadata": {},
   "outputs": [],
   "source": [
    "import pandas as pd\n",
    "import numpy as np\n",
    "from sklearn.feature_extraction.text import CountVectorizer\n",
    "from sklearn.model_selection import train_test_split, KFold, cross_val_score\n",
    "from sklearn.ensemble import RandomForestClassifier\n",
    "import sklearn.decomposition as sd\n",
    "from sklearn import metrics\n",
    "import collections\n",
    "import matplotlib.pyplot as plt"
   ]
  },
  {
   "cell_type": "markdown",
   "metadata": {},
   "source": [
    "# Part 1 - LDA"
   ]
  },
  {
   "cell_type": "code",
   "execution_count": 2,
   "metadata": {},
   "outputs": [],
   "source": [
    "instagram1 = pd.read_csv('../csm_2019_assignment_4/instagram_1.csv')"
   ]
  },
  {
   "cell_type": "code",
   "execution_count": 3,
   "metadata": {},
   "outputs": [
    {
     "data": {
      "text/html": [
       "<div>\n",
       "<style scoped>\n",
       "    .dataframe tbody tr th:only-of-type {\n",
       "        vertical-align: middle;\n",
       "    }\n",
       "\n",
       "    .dataframe tbody tr th {\n",
       "        vertical-align: top;\n",
       "    }\n",
       "\n",
       "    .dataframe thead th {\n",
       "        text-align: right;\n",
       "    }\n",
       "</style>\n",
       "<table border=\"1\" class=\"dataframe\">\n",
       "  <thead>\n",
       "    <tr style=\"text-align: right;\">\n",
       "      <th></th>\n",
       "      <th>hashtags</th>\n",
       "    </tr>\n",
       "  </thead>\n",
       "  <tbody>\n",
       "    <tr>\n",
       "      <th>0</th>\n",
       "      <td>vibetribe openair spintwist fullon fiesta edm...</td>\n",
       "    </tr>\n",
       "    <tr>\n",
       "      <th>1</th>\n",
       "      <td>love beauty spring iphonesia igdaily igers in...</td>\n",
       "    </tr>\n",
       "    <tr>\n",
       "      <th>2</th>\n",
       "      <td>beautiful pencil sketch korea art seoul amate...</td>\n",
       "    </tr>\n",
       "    <tr>\n",
       "      <th>3</th>\n",
       "      <td>europe omd tagsforlikers olympus switzerland ...</td>\n",
       "    </tr>\n",
       "    <tr>\n",
       "      <th>4</th>\n",
       "      <td>eyes fashion victims blackandwhite ciao selfi...</td>\n",
       "    </tr>\n",
       "  </tbody>\n",
       "</table>\n",
       "</div>"
      ],
      "text/plain": [
       "                                            hashtags\n",
       "0   vibetribe openair spintwist fullon fiesta edm...\n",
       "1   love beauty spring iphonesia igdaily igers in...\n",
       "2   beautiful pencil sketch korea art seoul amate...\n",
       "3   europe omd tagsforlikers olympus switzerland ...\n",
       "4   eyes fashion victims blackandwhite ciao selfi..."
      ]
     },
     "execution_count": 3,
     "metadata": {},
     "output_type": "execute_result"
    }
   ],
   "source": [
    "instagram1.head()"
   ]
  },
  {
   "cell_type": "code",
   "execution_count": 4,
   "metadata": {},
   "outputs": [
    {
     "data": {
      "text/plain": [
       "' vibetribe openair spintwist fullon fiesta edm records psy vt party rave electronic psychedelic festa progressive dm7bookings festival trance davincicode mainstage progressivetrance music nightlife psytrance prog passion vibetribeofficial'"
      ]
     },
     "execution_count": 4,
     "metadata": {},
     "output_type": "execute_result"
    }
   ],
   "source": [
    "instagram1.iloc[0]['hashtags']"
   ]
  },
  {
   "cell_type": "markdown",
   "metadata": {},
   "source": [
    "## Transform data into bag-of-words matrix"
   ]
  },
  {
   "cell_type": "code",
   "execution_count": 5,
   "metadata": {},
   "outputs": [],
   "source": [
    "text_in_array = instagram1['hashtags'].tolist()"
   ]
  },
  {
   "cell_type": "code",
   "execution_count": 6,
   "metadata": {},
   "outputs": [],
   "source": [
    "from sklearn.feature_extraction.text import CountVectorizer\n",
    "tf_vectorizer = CountVectorizer()\n",
    "tf = tf_vectorizer.fit_transform(text_in_array)"
   ]
  },
  {
   "cell_type": "code",
   "execution_count": 7,
   "metadata": {},
   "outputs": [],
   "source": [
    "def print_top_words(model, feature_names, n_top_words):\n",
    "    for topic_idx, topic in enumerate(model.components_):\n",
    "        message = \"Topic #%d: \" % topic_idx\n",
    "        message += \" \".join([feature_names[i]\n",
    "                             for i in topic.argsort()[:-n_top_words - 1:-1]])\n",
    "        print(message)\n",
    "    print()"
   ]
  },
  {
   "cell_type": "code",
   "execution_count": 8,
   "metadata": {},
   "outputs": [],
   "source": [
    "def print_topics(model, feature_names, n_top_words, topics):\n",
    "    for topic_idx, topic in enumerate(model.components_):\n",
    "        print(topics[topic_idx] + ': ')\n",
    "        message = ''\n",
    "        message += \" \".join([feature_names[i]\n",
    "                             for i in topic.argsort()[:-n_top_words - 1:-1]])\n",
    "        print(message)\n",
    "        print('')\n",
    "    print()"
   ]
  },
  {
   "cell_type": "markdown",
   "metadata": {},
   "source": [
    "## 15 differents topics"
   ]
  },
  {
   "cell_type": "code",
   "execution_count": 9,
   "metadata": {},
   "outputs": [
    {
     "data": {
      "text/plain": [
       "LatentDirichletAllocation(batch_size=128, doc_topic_prior=None,\n",
       "             evaluate_every=-1, learning_decay=0.7,\n",
       "             learning_method='batch', learning_offset=10.0,\n",
       "             max_doc_update_iter=100, max_iter=10, mean_change_tol=0.001,\n",
       "             n_components=15, n_jobs=None, n_topics=None, perp_tol=0.1,\n",
       "             random_state=0, topic_word_prior=None,\n",
       "             total_samples=1000000.0, verbose=0)"
      ]
     },
     "execution_count": 9,
     "metadata": {},
     "output_type": "execute_result"
    }
   ],
   "source": [
    "number_topics = 15\n",
    "lda_15 = sd.LatentDirichletAllocation(n_components=number_topics, max_iter=10, random_state=0)\n",
    "lda_15.fit(tf)"
   ]
  },
  {
   "cell_type": "code",
   "execution_count": 10,
   "metadata": {},
   "outputs": [
    {
     "name": "stdout",
     "output_type": "stream",
     "text": [
      "Topic #0: switzerland zürich zurich zrh art zh züri tsüri love swiss\n",
      "Topic #1: switzerland love instagood dog animals pet pets nature dogsofinstagram animal\n",
      "Topic #2: fitness fit gym healthy workout motivation zurich zürich love swiss\n",
      "Topic #3: switzerland visitswitzerland ig_switzerland wu_switzerland myswitzerland ig_europe super_switzerland igerssuisse ig_swiss inlovewithswitzerland\n",
      "Topic #4: switzerland swiss nature landscape mountain suisse alps sky mountains clouds\n",
      "Topic #5: switzerland travel instatravel travelgram swiss trip suisse traveling schweiz photooftheday\n",
      "Topic #6: switzerland snow mountains winter swiss nature schweiz alps sun landscape\n",
      "Topic #7: switzerland party friends zurich music swiss happy love travel fun\n",
      "Topic #8: igerssuisse switzerland picoftheday instagood gf_swiss instagramhub photooftheday all_shots igerszurich iphoneonly\n",
      "Topic #9: instagood photooftheday picoftheday love instamood instadaily bestoftheday igers followme follow\n",
      "Topic #10: switzerland travel nature landscape mountains lake instagood igerssuisse alps picoftheday\n",
      "Topic #11: switzerland sky clouds beautiful nature sun sunset cloudporn سويسرا sunrise\n",
      "Topic #12: mountains climb sport zurich hardwork climber fitness climbing arrampicata grimpe\n",
      "Topic #13: food foodporn instafood yummy switzerland delicious instagood foodie love architecture\n",
      "Topic #14: switzerland zurich igerssuisse youmustsee schweiz igerslausanne tribegram wu_switzerland igersfrance swiss\n",
      "\n"
     ]
    }
   ],
   "source": [
    "tf_feature_names_15 = tf_vectorizer.get_feature_names()\n",
    "print_top_words(lda_15, tf_feature_names_15, 10)"
   ]
  },
  {
   "cell_type": "markdown",
   "metadata": {},
   "source": [
    "## 20 different topics"
   ]
  },
  {
   "cell_type": "code",
   "execution_count": 11,
   "metadata": {},
   "outputs": [
    {
     "data": {
      "text/plain": [
       "LatentDirichletAllocation(batch_size=128, doc_topic_prior=None,\n",
       "             evaluate_every=-1, learning_decay=0.7,\n",
       "             learning_method='batch', learning_offset=10.0,\n",
       "             max_doc_update_iter=100, max_iter=10, mean_change_tol=0.001,\n",
       "             n_components=20, n_jobs=None, n_topics=None, perp_tol=0.1,\n",
       "             random_state=0, topic_word_prior=None,\n",
       "             total_samples=1000000.0, verbose=0)"
      ]
     },
     "execution_count": 11,
     "metadata": {},
     "output_type": "execute_result"
    }
   ],
   "source": [
    "number_topics = 20\n",
    "lda_20 = sd.LatentDirichletAllocation(n_components=number_topics, max_iter=10, random_state=0)\n",
    "lda_20.fit(tf)"
   ]
  },
  {
   "cell_type": "code",
   "execution_count": 12,
   "metadata": {},
   "outputs": [
    {
     "name": "stdout",
     "output_type": "stream",
     "text": [
      "Topic #0: switzerland zürich art zurich artist gallery fashion swiss model makeup\n",
      "Topic #1: switzerland cat love nature car animals the zurich speed home\n",
      "Topic #2: fitness fit gym workout healthy motivation lifestyle instagood zürich love\n",
      "Topic #3: switzerland vsco swiss vscocam geneva livefolk love art huntgram schweiz\n",
      "Topic #4: switzerland swiss nature picture landscape beautifulday followme naturelover river instaphoto\n",
      "Topic #5: travel switzerland mytravelgram instatravel travelgram vacation travelling holiday instatraveling photooftheday\n",
      "Topic #6: switzerland swiss snow love schweiz winter zurich white uae sun\n",
      "Topic #7: switzerland instagood ch swiss zurich happy love photooftheday weather world\n",
      "Topic #8: igerssuisse switzerland instagood igerszurich instagramhub gf_swiss picoftheday photooftheday instamood iphoneonly\n",
      "Topic #9: instagood picoftheday photooftheday instadaily love instamood bestoftheday followme igers follow\n",
      "Topic #10: switzerland sport climb divinafotografia outdoors mountains fotosensin ig_serenity instafashion ig_eurasia\n",
      "Topic #11: beautiful sky switzerland sun nature clouds pretty beauty photooftheday sunset\n",
      "Topic #12: zurich züri zh tsüri zürich switzerland zrh fitspo zuerich fitness\n",
      "Topic #13: food foodporn yummy architecture instafood instagood delicious foodie design eat\n",
      "Topic #14: switzerland igerssuisse ig_switzerland wu_switzerland worldunion igerslausanne wu_europe allshots_ schweiz ig_captures\n",
      "Topic #15: switzerland geneva swiss suisse valais fun schweiz night amazing photography\n",
      "Topic #16: switzerland nature mountains swiss travel snow landscape schweiz suisse lake\n",
      "Topic #17: switzerland schweiz swiss suisse zurich architecture svizzera lucerne zürich design\n",
      "Topic #18: visitswitzerland wu_switzerland super_switzerland ig_swiss switzerland_vacations inlovewithswitzerland neverstopexploring myswitzerland ig_europe loves_switzerland\n",
      "Topic #19: switzerland swiss likes4likes likeforlike l4l schweiz likeback likesforlikes likealways liker\n",
      "\n"
     ]
    }
   ],
   "source": [
    "tf_feature_names_20 = tf_vectorizer.get_feature_names()\n",
    "print_top_words(lda_20, tf_feature_names_20, 10)"
   ]
  },
  {
   "cell_type": "markdown",
   "metadata": {},
   "source": [
    "## 25 different topics"
   ]
  },
  {
   "cell_type": "code",
   "execution_count": 13,
   "metadata": {},
   "outputs": [
    {
     "data": {
      "text/plain": [
       "LatentDirichletAllocation(batch_size=128, doc_topic_prior=None,\n",
       "             evaluate_every=-1, learning_decay=0.7,\n",
       "             learning_method='batch', learning_offset=10.0,\n",
       "             max_doc_update_iter=100, max_iter=10, mean_change_tol=0.001,\n",
       "             n_components=25, n_jobs=None, n_topics=None, perp_tol=0.1,\n",
       "             random_state=0, topic_word_prior=None,\n",
       "             total_samples=1000000.0, verbose=0)"
      ]
     },
     "execution_count": 13,
     "metadata": {},
     "output_type": "execute_result"
    }
   ],
   "source": [
    "number_topics = 25\n",
    "lda_25 = sd.LatentDirichletAllocation(n_components=number_topics, max_iter=10, random_state=0)\n",
    "lda_25.fit(tf)"
   ]
  },
  {
   "cell_type": "code",
   "execution_count": 14,
   "metadata": {},
   "outputs": [
    {
     "name": "stdout",
     "output_type": "stream",
     "text": [
      "Topic #0: zürich zurich switzerland züri fashion zh zrh tsüri zuerich swiss\n",
      "Topic #1: switzerland eyes cat animals pets love cats animal with pet\n",
      "Topic #2: zurich zürich instagood love schweiz swiss igerslausanne ootd switzerland instafashion\n",
      "Topic #3: switzerland geneva art igerssuisse bestnatureshot طبيعه qatar love weekend sunday\n",
      "Topic #4: switzerland swiss nature river landscape pictureoftheday mountain beautifull beautifulview beautifulday\n",
      "Topic #5: travel instatravel switzerland travelgram trip traveling mytravelgram vacation photooftheday travelling\n",
      "Topic #6: switzerland swiss schweiz snow love zurich suisse sun white black\n",
      "Topic #7: switzerland party zurich friends love gay swiss night instagay summer\n",
      "Topic #8: instagood igerssuisse instamood picoftheday photooftheday instagramhub switzerland iphoneonly iphonesia igers\n",
      "Topic #9: instagood photooftheday picoftheday love instadaily followme follow bestoftheday instamood igers\n",
      "Topic #10: fitness gym fit switzerland workout motivation sport healthy lifestyle bodybuilding\n",
      "Topic #11: switzerland سويسرا travel 스위스 swiss تصويري europe انترلاكن 여행 interlaken\n",
      "Topic #12: training cycling fit المانيا switzerland bike ميونخ biking velo travel\n",
      "Topic #13: food foodporn instafood yummy delicious instagood foodie architecture design foodgasm\n",
      "Topic #14: switzerland landscapelovers zurich wu_switzerland moodjunky igerslavaux youmustsee igerssuisse igerslausanne iphonesphere\n",
      "Topic #15: switzerland swiss geneva love zurich suisse beauty fashion schweiz skies\n",
      "Topic #16: switzerland nature mountains snow swiss travel landscape schweiz winter suisse\n",
      "Topic #17: switzerland swiss schweiz dog dogsofinstagram instadog puppy ig_worldclub wu_switzerland architecture\n",
      "Topic #18: switzerland visitswitzerland swiss lugano geneva doyoutravel ourplanetdaily weekend swissalps exploringtheglobe\n",
      "Topic #19: switzerland swiss schweiz zurich kitchen bern food luxury gourmet lifestyle\n",
      "Topic #20: switzerland art drawing artist zurich foodporn photooftheday paleo draw illustration\n",
      "Topic #21: sky clouds nature sun sunset beautiful cloudporn blue green red\n",
      "Topic #22: switzerland igerssuisse schweiz zurich zürich igerszurich ig_switzerland saennb streetart basel\n",
      "Topic #23: switzerland car luxury cars swiss supercar friends geneva igerssuisse suisse\n",
      "Topic #24: switzerland alalamiya ig_eurasia lebanon_hdr allunique_pro ig_wildplace ootd screaming_shots ig_serenity vivir_to2\n",
      "\n"
     ]
    }
   ],
   "source": [
    "tf_feature_names_25 = tf_vectorizer.get_feature_names()\n",
    "print_top_words(lda_25, tf_feature_names_25, 10)"
   ]
  },
  {
   "cell_type": "markdown",
   "metadata": {},
   "source": [
    "## Topics that are the most meaningful"
   ]
  },
  {
   "cell_type": "markdown",
   "metadata": {},
   "source": [
    "I decided to keep the 15 different topics, because this is when they are the less mixed, otherwise they are always a lot of topics that contain 2-3 words that don't seem to belong to the topic and there are also topics that could be merged together."
   ]
  },
  {
   "cell_type": "code",
   "execution_count": 15,
   "metadata": {},
   "outputs": [],
   "source": [
    "topics = ['Zürich', 'Animals', 'Sport', 'Visit Switzerland', 'Landscape', 'Travel', 'Winter nature', 'Party', 'Photos of Instagram', 'Picture of the day', 'Nature', 'Sky', 'Climbing', 'Food', 'Instagrammers of Switzerland']"
   ]
  },
  {
   "cell_type": "code",
   "execution_count": 16,
   "metadata": {},
   "outputs": [
    {
     "name": "stdout",
     "output_type": "stream",
     "text": [
      "Zürich: \n",
      "switzerland zürich zurich zrh art zh züri tsüri love swiss\n",
      "\n",
      "Animals: \n",
      "switzerland love instagood dog animals pet pets nature dogsofinstagram animal\n",
      "\n",
      "Sport: \n",
      "fitness fit gym healthy workout motivation zurich zürich love swiss\n",
      "\n",
      "Visit Switzerland: \n",
      "switzerland visitswitzerland ig_switzerland wu_switzerland myswitzerland ig_europe super_switzerland igerssuisse ig_swiss inlovewithswitzerland\n",
      "\n",
      "Landscape: \n",
      "switzerland swiss nature landscape mountain suisse alps sky mountains clouds\n",
      "\n",
      "Travel: \n",
      "switzerland travel instatravel travelgram swiss trip suisse traveling schweiz photooftheday\n",
      "\n",
      "Winter nature: \n",
      "switzerland snow mountains winter swiss nature schweiz alps sun landscape\n",
      "\n",
      "Party: \n",
      "switzerland party friends zurich music swiss happy love travel fun\n",
      "\n",
      "Photos of Instagram: \n",
      "igerssuisse switzerland picoftheday instagood gf_swiss instagramhub photooftheday all_shots igerszurich iphoneonly\n",
      "\n",
      "Picture of the day: \n",
      "instagood photooftheday picoftheday love instamood instadaily bestoftheday igers followme follow\n",
      "\n",
      "Nature: \n",
      "switzerland travel nature landscape mountains lake instagood igerssuisse alps picoftheday\n",
      "\n",
      "Sky: \n",
      "switzerland sky clouds beautiful nature sun sunset cloudporn سويسرا sunrise\n",
      "\n",
      "Climbing: \n",
      "mountains climb sport zurich hardwork climber fitness climbing arrampicata grimpe\n",
      "\n",
      "Food: \n",
      "food foodporn instafood yummy switzerland delicious instagood foodie love architecture\n",
      "\n",
      "Instagrammers of Switzerland: \n",
      "switzerland zurich igerssuisse youmustsee schweiz igerslausanne tribegram wu_switzerland igersfrance swiss\n",
      "\n",
      "\n"
     ]
    }
   ],
   "source": [
    "print_topics(lda_15, tf_feature_names_15, 10, topics)"
   ]
  },
  {
   "cell_type": "markdown",
   "metadata": {},
   "source": [
    "## Discussion"
   ]
  },
  {
   "cell_type": "markdown",
   "metadata": {},
   "source": [
    "I think the topics found with LDA have multiple problems. First, in almost all my topics I have the hashtag _switzerland_ that appears and I do not think that it is normal, because I do not think that all topics are related to Switzerland and that this hashtag is present in every list of hashtags from data. Nevertheless I have no idea where this can come from.\n",
    "\n",
    "Otherwise I think that the topics are quite meaningful even if I got some topics that are almost the same as 'Nature' and _Landscape_ or _Photos of Instagram_ and _Instagrammers of Switzerland_ and _Picture of the day_. There is also the problem of having one of the words that is not related to the other ones like _architecture_ in the topic _Food_ or _سويسرا_ (Suisse in Arabic) in the topic _Sky_. Nevertheless, I did not think that the topics found were surprising, because there are pretty common on instagram.\n",
    "\n",
    "If the collection of posts would have fewer hashtags, the topics would be less precise as the \"documents\" (list of hashtags) would be smaller and then it would be more difficult to infer topics from them.\n"
   ]
  },
  {
   "cell_type": "markdown",
   "metadata": {},
   "source": [
    "# Part 2 - Random Forest"
   ]
  },
  {
   "cell_type": "code",
   "execution_count": 17,
   "metadata": {},
   "outputs": [],
   "source": [
    "instagram2 = pd.read_json('../csm_2019_assignment_4/instagram_2.json', lines=True)"
   ]
  },
  {
   "cell_type": "code",
   "execution_count": 18,
   "metadata": {},
   "outputs": [
    {
     "data": {
      "text/html": [
       "<div>\n",
       "<style scoped>\n",
       "    .dataframe tbody tr th:only-of-type {\n",
       "        vertical-align: middle;\n",
       "    }\n",
       "\n",
       "    .dataframe tbody tr th {\n",
       "        vertical-align: top;\n",
       "    }\n",
       "\n",
       "    .dataframe thead th {\n",
       "        text-align: right;\n",
       "    }\n",
       "</style>\n",
       "<table border=\"1\" class=\"dataframe\">\n",
       "  <thead>\n",
       "    <tr style=\"text-align: right;\">\n",
       "      <th></th>\n",
       "      <th>_id</th>\n",
       "      <th>imgfeatures</th>\n",
       "      <th>label</th>\n",
       "      <th>tags</th>\n",
       "    </tr>\n",
       "  </thead>\n",
       "  <tbody>\n",
       "    <tr>\n",
       "      <th>0</th>\n",
       "      <td>{'$oid': '5cd2d3c2c03b40d4f2d216dd'}</td>\n",
       "      <td>{'pedestal, plinth, footstall': 5e-05, 'entert...</td>\n",
       "      <td>alcohol</td>\n",
       "      <td>{'raclette': 0, 'blackandwhite': 0, 'starbucks...</td>\n",
       "    </tr>\n",
       "    <tr>\n",
       "      <th>1</th>\n",
       "      <td>{'$oid': '5cd2d3c2c03b40d4f2d216de'}</td>\n",
       "      <td>{'pedestal, plinth, footstall': 2e-05, 'entert...</td>\n",
       "      <td>alcohol</td>\n",
       "      <td>{'raclette': 0, 'blackandwhite': 0, 'starbucks...</td>\n",
       "    </tr>\n",
       "    <tr>\n",
       "      <th>2</th>\n",
       "      <td>{'$oid': '5cd2d3c2c03b40d4f2d216df'}</td>\n",
       "      <td>{'pedestal, plinth, footstall': 0.0, 'peacock'...</td>\n",
       "      <td>nonalcohol</td>\n",
       "      <td>{'raclette': 0, 'blackandwhite': 0, 'starbucks...</td>\n",
       "    </tr>\n",
       "    <tr>\n",
       "      <th>3</th>\n",
       "      <td>{'$oid': '5cd2d3c2c03b40d4f2d216e0'}</td>\n",
       "      <td>{'pedestal, plinth, footstall': 0.000130000000...</td>\n",
       "      <td>alcohol</td>\n",
       "      <td>{'raclette': 0, 'blackandwhite': 0, 'starbucks...</td>\n",
       "    </tr>\n",
       "    <tr>\n",
       "      <th>4</th>\n",
       "      <td>{'$oid': '5cd2d3c2c03b40d4f2d216e1'}</td>\n",
       "      <td>{'pedestal, plinth, footstall': 7.000000000000...</td>\n",
       "      <td>alcohol</td>\n",
       "      <td>{'raclette': 0, 'blackandwhite': 0, 'starbucks...</td>\n",
       "    </tr>\n",
       "  </tbody>\n",
       "</table>\n",
       "</div>"
      ],
      "text/plain": [
       "                                    _id  \\\n",
       "0  {'$oid': '5cd2d3c2c03b40d4f2d216dd'}   \n",
       "1  {'$oid': '5cd2d3c2c03b40d4f2d216de'}   \n",
       "2  {'$oid': '5cd2d3c2c03b40d4f2d216df'}   \n",
       "3  {'$oid': '5cd2d3c2c03b40d4f2d216e0'}   \n",
       "4  {'$oid': '5cd2d3c2c03b40d4f2d216e1'}   \n",
       "\n",
       "                                         imgfeatures       label  \\\n",
       "0  {'pedestal, plinth, footstall': 5e-05, 'entert...     alcohol   \n",
       "1  {'pedestal, plinth, footstall': 2e-05, 'entert...     alcohol   \n",
       "2  {'pedestal, plinth, footstall': 0.0, 'peacock'...  nonalcohol   \n",
       "3  {'pedestal, plinth, footstall': 0.000130000000...     alcohol   \n",
       "4  {'pedestal, plinth, footstall': 7.000000000000...     alcohol   \n",
       "\n",
       "                                                tags  \n",
       "0  {'raclette': 0, 'blackandwhite': 0, 'starbucks...  \n",
       "1  {'raclette': 0, 'blackandwhite': 0, 'starbucks...  \n",
       "2  {'raclette': 0, 'blackandwhite': 0, 'starbucks...  \n",
       "3  {'raclette': 0, 'blackandwhite': 0, 'starbucks...  \n",
       "4  {'raclette': 0, 'blackandwhite': 0, 'starbucks...  "
      ]
     },
     "execution_count": 18,
     "metadata": {},
     "output_type": "execute_result"
    }
   ],
   "source": [
    "instagram2.head()"
   ]
  },
  {
   "cell_type": "markdown",
   "metadata": {},
   "source": [
    "## Most common hashtags and visual objects"
   ]
  },
  {
   "cell_type": "code",
   "execution_count": 19,
   "metadata": {},
   "outputs": [],
   "source": [
    "alcohol = instagram2.loc[instagram2['label'] == 'alcohol']\n",
    "non_alcohol = instagram2.loc[instagram2['label'] == 'nonalcohol']"
   ]
  },
  {
   "cell_type": "code",
   "execution_count": 20,
   "metadata": {},
   "outputs": [
    {
     "data": {
      "text/html": [
       "<div>\n",
       "<style scoped>\n",
       "    .dataframe tbody tr th:only-of-type {\n",
       "        vertical-align: middle;\n",
       "    }\n",
       "\n",
       "    .dataframe tbody tr th {\n",
       "        vertical-align: top;\n",
       "    }\n",
       "\n",
       "    .dataframe thead th {\n",
       "        text-align: right;\n",
       "    }\n",
       "</style>\n",
       "<table border=\"1\" class=\"dataframe\">\n",
       "  <thead>\n",
       "    <tr style=\"text-align: right;\">\n",
       "      <th></th>\n",
       "      <th>_id</th>\n",
       "      <th>imgfeatures</th>\n",
       "      <th>label</th>\n",
       "      <th>tags</th>\n",
       "    </tr>\n",
       "  </thead>\n",
       "  <tbody>\n",
       "    <tr>\n",
       "      <th>0</th>\n",
       "      <td>{'$oid': '5cd2d3c2c03b40d4f2d216dd'}</td>\n",
       "      <td>{'pedestal, plinth, footstall': 5e-05, 'entert...</td>\n",
       "      <td>alcohol</td>\n",
       "      <td>{'raclette': 0, 'blackandwhite': 0, 'starbucks...</td>\n",
       "    </tr>\n",
       "    <tr>\n",
       "      <th>1</th>\n",
       "      <td>{'$oid': '5cd2d3c2c03b40d4f2d216de'}</td>\n",
       "      <td>{'pedestal, plinth, footstall': 2e-05, 'entert...</td>\n",
       "      <td>alcohol</td>\n",
       "      <td>{'raclette': 0, 'blackandwhite': 0, 'starbucks...</td>\n",
       "    </tr>\n",
       "    <tr>\n",
       "      <th>3</th>\n",
       "      <td>{'$oid': '5cd2d3c2c03b40d4f2d216e0'}</td>\n",
       "      <td>{'pedestal, plinth, footstall': 0.000130000000...</td>\n",
       "      <td>alcohol</td>\n",
       "      <td>{'raclette': 0, 'blackandwhite': 0, 'starbucks...</td>\n",
       "    </tr>\n",
       "    <tr>\n",
       "      <th>4</th>\n",
       "      <td>{'$oid': '5cd2d3c2c03b40d4f2d216e1'}</td>\n",
       "      <td>{'pedestal, plinth, footstall': 7.000000000000...</td>\n",
       "      <td>alcohol</td>\n",
       "      <td>{'raclette': 0, 'blackandwhite': 0, 'starbucks...</td>\n",
       "    </tr>\n",
       "    <tr>\n",
       "      <th>5</th>\n",
       "      <td>{'$oid': '5cd2d3c2c03b40d4f2d216e2'}</td>\n",
       "      <td>{'pedestal, plinth, footstall': 5e-05, 'entert...</td>\n",
       "      <td>alcohol</td>\n",
       "      <td>{'raclette': 0, 'blackandwhite': 0, 'starbucks...</td>\n",
       "    </tr>\n",
       "  </tbody>\n",
       "</table>\n",
       "</div>"
      ],
      "text/plain": [
       "                                    _id  \\\n",
       "0  {'$oid': '5cd2d3c2c03b40d4f2d216dd'}   \n",
       "1  {'$oid': '5cd2d3c2c03b40d4f2d216de'}   \n",
       "3  {'$oid': '5cd2d3c2c03b40d4f2d216e0'}   \n",
       "4  {'$oid': '5cd2d3c2c03b40d4f2d216e1'}   \n",
       "5  {'$oid': '5cd2d3c2c03b40d4f2d216e2'}   \n",
       "\n",
       "                                         imgfeatures    label  \\\n",
       "0  {'pedestal, plinth, footstall': 5e-05, 'entert...  alcohol   \n",
       "1  {'pedestal, plinth, footstall': 2e-05, 'entert...  alcohol   \n",
       "3  {'pedestal, plinth, footstall': 0.000130000000...  alcohol   \n",
       "4  {'pedestal, plinth, footstall': 7.000000000000...  alcohol   \n",
       "5  {'pedestal, plinth, footstall': 5e-05, 'entert...  alcohol   \n",
       "\n",
       "                                                tags  \n",
       "0  {'raclette': 0, 'blackandwhite': 0, 'starbucks...  \n",
       "1  {'raclette': 0, 'blackandwhite': 0, 'starbucks...  \n",
       "3  {'raclette': 0, 'blackandwhite': 0, 'starbucks...  \n",
       "4  {'raclette': 0, 'blackandwhite': 0, 'starbucks...  \n",
       "5  {'raclette': 0, 'blackandwhite': 0, 'starbucks...  "
      ]
     },
     "execution_count": 20,
     "metadata": {},
     "output_type": "execute_result"
    }
   ],
   "source": [
    "alcohol.head()"
   ]
  },
  {
   "cell_type": "markdown",
   "metadata": {},
   "source": [
    "### Most common 30 hashtags"
   ]
  },
  {
   "cell_type": "code",
   "execution_count": 21,
   "metadata": {},
   "outputs": [],
   "source": [
    "def merge_dic(dictionaries): #to make one dictonary with all the lines of data as they all have the same keys\n",
    "    counter = collections.Counter() \n",
    "    for dic in dictionaries:  \n",
    "        counter.update(dic) \n",
    "      \n",
    "    result = dict(counter.most_common(30)) \n",
    "    return result"
   ]
  },
  {
   "cell_type": "code",
   "execution_count": 22,
   "metadata": {},
   "outputs": [],
   "source": [
    "alcohol_tags = merge_dic(alcohol['tags'])"
   ]
  },
  {
   "cell_type": "code",
   "execution_count": 23,
   "metadata": {},
   "outputs": [],
   "source": [
    "non_alcohol_tags = merge_dic(non_alcohol['tags'])"
   ]
  },
  {
   "cell_type": "code",
   "execution_count": 24,
   "metadata": {},
   "outputs": [],
   "source": [
    "def plot_histogram(title, xlabel, ylabel, data):\n",
    "    plt.xticks(rotation = 90)\n",
    "    plt.title(title)\n",
    "    plt.xlabel(xlabel)\n",
    "    plt.ylabel(ylabel)\n",
    "    plt.bar(list(data.keys()), data.values())\n",
    "    plt.show()"
   ]
  },
  {
   "cell_type": "code",
   "execution_count": 25,
   "metadata": {},
   "outputs": [
    {
     "data": {
      "image/png": "[encoded data removed]",
      "text/plain": [
       "<Figure size 432x288 with 1 Axes>"
      ]
     },
     "metadata": {
      "needs_background": "light"
     },
     "output_type": "display_data"
    }
   ],
   "source": [
    "plot_histogram('Most common 30 hashtags for alcohol', 'Hashtags', 'Number of occurences', alcohol_tags)"
   ]
  },
  {
   "cell_type": "code",
   "execution_count": 26,
   "metadata": {},
   "outputs": [
    {
     "data": {
      "image/png": "[encoded data removed]",
      "text/plain": [
       "<Figure size 432x288 with 1 Axes>"
      ]
     },
     "metadata": {
      "needs_background": "light"
     },
     "output_type": "display_data"
    }
   ],
   "source": [
    "plot_histogram('Most common 30 hashtags for non_alcohol', 'Hashtags', 'Number of occurences', non_alcohol_tags)"
   ]
  },
  {
   "cell_type": "markdown",
   "metadata": {},
   "source": [
    "### Most common 30 visual objects"
   ]
  },
  {
   "cell_type": "code",
   "execution_count": 27,
   "metadata": {},
   "outputs": [],
   "source": [
    "alcohol_visual = merge_dic(alcohol['imgfeatures'])"
   ]
  },
  {
   "cell_type": "code",
   "execution_count": 28,
   "metadata": {},
   "outputs": [],
   "source": [
    "non_alcohol_visual = merge_dic(non_alcohol['imgfeatures'])"
   ]
  },
  {
   "cell_type": "code",
   "execution_count": 29,
   "metadata": {},
   "outputs": [
    {
     "data": {
      "image/png": "[encoded data removed]",
      "text/plain": [
       "<Figure size 432x288 with 1 Axes>"
      ]
     },
     "metadata": {
      "needs_background": "light"
     },
     "output_type": "display_data"
    }
   ],
   "source": [
    "plot_histogram('Most common 30 visual features for alcohol', 'Visual Features', 'Number of occurences', alcohol_visual)"
   ]
  },
  {
   "cell_type": "code",
   "execution_count": 30,
   "metadata": {},
   "outputs": [
    {
     "data": {
      "image/png": "[encoded data removed]",
      "text/plain": [
       "<Figure size 432x288 with 1 Axes>"
      ]
     },
     "metadata": {
      "needs_background": "light"
     },
     "output_type": "display_data"
    }
   ],
   "source": [
    "plot_histogram('Most common 30 visual features for non-alcohol', 'Visual Features', 'Number of occurences', non_alcohol_visual)"
   ]
  },
  {
   "cell_type": "markdown",
   "metadata": {},
   "source": [
    "## Random Forest Classifier"
   ]
  },
  {
   "cell_type": "code",
   "execution_count": 31,
   "metadata": {},
   "outputs": [],
   "source": [
    "insta2 = instagram2.copy()"
   ]
  },
  {
   "cell_type": "code",
   "execution_count": 32,
   "metadata": {},
   "outputs": [
    {
     "data": {
      "text/html": [
       "<div>\n",
       "<style scoped>\n",
       "    .dataframe tbody tr th:only-of-type {\n",
       "        vertical-align: middle;\n",
       "    }\n",
       "\n",
       "    .dataframe tbody tr th {\n",
       "        vertical-align: top;\n",
       "    }\n",
       "\n",
       "    .dataframe thead th {\n",
       "        text-align: right;\n",
       "    }\n",
       "</style>\n",
       "<table border=\"1\" class=\"dataframe\">\n",
       "  <thead>\n",
       "    <tr style=\"text-align: right;\">\n",
       "      <th></th>\n",
       "      <th>_id</th>\n",
       "      <th>imgfeatures</th>\n",
       "      <th>label</th>\n",
       "      <th>tags</th>\n",
       "    </tr>\n",
       "  </thead>\n",
       "  <tbody>\n",
       "    <tr>\n",
       "      <th>0</th>\n",
       "      <td>{'$oid': '5cd2d3c2c03b40d4f2d216dd'}</td>\n",
       "      <td>{'pedestal, plinth, footstall': 5e-05, 'entert...</td>\n",
       "      <td>alcohol</td>\n",
       "      <td>{'raclette': 0, 'blackandwhite': 0, 'starbucks...</td>\n",
       "    </tr>\n",
       "    <tr>\n",
       "      <th>1</th>\n",
       "      <td>{'$oid': '5cd2d3c2c03b40d4f2d216de'}</td>\n",
       "      <td>{'pedestal, plinth, footstall': 2e-05, 'entert...</td>\n",
       "      <td>alcohol</td>\n",
       "      <td>{'raclette': 0, 'blackandwhite': 0, 'starbucks...</td>\n",
       "    </tr>\n",
       "    <tr>\n",
       "      <th>2</th>\n",
       "      <td>{'$oid': '5cd2d3c2c03b40d4f2d216df'}</td>\n",
       "      <td>{'pedestal, plinth, footstall': 0.0, 'peacock'...</td>\n",
       "      <td>nonalcohol</td>\n",
       "      <td>{'raclette': 0, 'blackandwhite': 0, 'starbucks...</td>\n",
       "    </tr>\n",
       "    <tr>\n",
       "      <th>3</th>\n",
       "      <td>{'$oid': '5cd2d3c2c03b40d4f2d216e0'}</td>\n",
       "      <td>{'pedestal, plinth, footstall': 0.000130000000...</td>\n",
       "      <td>alcohol</td>\n",
       "      <td>{'raclette': 0, 'blackandwhite': 0, 'starbucks...</td>\n",
       "    </tr>\n",
       "    <tr>\n",
       "      <th>4</th>\n",
       "      <td>{'$oid': '5cd2d3c2c03b40d4f2d216e1'}</td>\n",
       "      <td>{'pedestal, plinth, footstall': 7.000000000000...</td>\n",
       "      <td>alcohol</td>\n",
       "      <td>{'raclette': 0, 'blackandwhite': 0, 'starbucks...</td>\n",
       "    </tr>\n",
       "  </tbody>\n",
       "</table>\n",
       "</div>"
      ],
      "text/plain": [
       "                                    _id  \\\n",
       "0  {'$oid': '5cd2d3c2c03b40d4f2d216dd'}   \n",
       "1  {'$oid': '5cd2d3c2c03b40d4f2d216de'}   \n",
       "2  {'$oid': '5cd2d3c2c03b40d4f2d216df'}   \n",
       "3  {'$oid': '5cd2d3c2c03b40d4f2d216e0'}   \n",
       "4  {'$oid': '5cd2d3c2c03b40d4f2d216e1'}   \n",
       "\n",
       "                                         imgfeatures       label  \\\n",
       "0  {'pedestal, plinth, footstall': 5e-05, 'entert...     alcohol   \n",
       "1  {'pedestal, plinth, footstall': 2e-05, 'entert...     alcohol   \n",
       "2  {'pedestal, plinth, footstall': 0.0, 'peacock'...  nonalcohol   \n",
       "3  {'pedestal, plinth, footstall': 0.000130000000...     alcohol   \n",
       "4  {'pedestal, plinth, footstall': 7.000000000000...     alcohol   \n",
       "\n",
       "                                                tags  \n",
       "0  {'raclette': 0, 'blackandwhite': 0, 'starbucks...  \n",
       "1  {'raclette': 0, 'blackandwhite': 0, 'starbucks...  \n",
       "2  {'raclette': 0, 'blackandwhite': 0, 'starbucks...  \n",
       "3  {'raclette': 0, 'blackandwhite': 0, 'starbucks...  \n",
       "4  {'raclette': 0, 'blackandwhite': 0, 'starbucks...  "
      ]
     },
     "execution_count": 32,
     "metadata": {},
     "output_type": "execute_result"
    }
   ],
   "source": [
    "insta2.head()"
   ]
  },
  {
   "cell_type": "code",
   "execution_count": 33,
   "metadata": {},
   "outputs": [],
   "source": [
    "insta2 = insta2.replace(['nonalcohol', 'alcohol'], [0, 1]) #in order to make prediction"
   ]
  },
  {
   "cell_type": "code",
   "execution_count": 34,
   "metadata": {},
   "outputs": [],
   "source": [
    "textual = []\n",
    "for features in insta2['tags']:\n",
    "    textual.append(list(features.values()))"
   ]
  },
  {
   "cell_type": "code",
   "execution_count": 35,
   "metadata": {},
   "outputs": [],
   "source": [
    "columns_name_textual = list(insta2['tags'][0].keys())"
   ]
  },
  {
   "cell_type": "code",
   "execution_count": 36,
   "metadata": {},
   "outputs": [],
   "source": [
    "textual_df = pd.DataFrame(textual, columns=columns_name_textual) #make new dataframe with only the text features"
   ]
  },
  {
   "cell_type": "code",
   "execution_count": 37,
   "metadata": {},
   "outputs": [],
   "source": [
    "visual = []\n",
    "for features in insta2['imgfeatures']:\n",
    "    visual.append(list(features.values()))"
   ]
  },
  {
   "cell_type": "code",
   "execution_count": 38,
   "metadata": {},
   "outputs": [],
   "source": [
    "columns_name_visual = list(insta2['imgfeatures'][0].keys())"
   ]
  },
  {
   "cell_type": "code",
   "execution_count": 39,
   "metadata": {},
   "outputs": [],
   "source": [
    "visual_df = pd.DataFrame(visual, columns=columns_name_visual) #make new dataframe with only the visual features"
   ]
  },
  {
   "cell_type": "markdown",
   "metadata": {},
   "source": [
    "### With text features"
   ]
  },
  {
   "cell_type": "code",
   "execution_count": 40,
   "metadata": {},
   "outputs": [],
   "source": [
    "X = textual_df\n",
    "y = insta2['label']  #Labels"
   ]
  },
  {
   "cell_type": "code",
   "execution_count": 41,
   "metadata": {},
   "outputs": [],
   "source": [
    "clf = RandomForestClassifier(n_estimators=100, max_depth=2, random_state=0)"
   ]
  },
  {
   "cell_type": "code",
   "execution_count": 42,
   "metadata": {},
   "outputs": [],
   "source": [
    "accuracy = cross_val_score(clf, X, y, cv=10, scoring='accuracy')\n",
    "recall = cross_val_score(clf, X, y, cv=10, scoring='recall')"
   ]
  },
  {
   "cell_type": "code",
   "execution_count": 43,
   "metadata": {},
   "outputs": [
    {
     "name": "stdout",
     "output_type": "stream",
     "text": [
      "Accuracy: 0.6766685740952677\n",
      "Recall: 1.0\n"
     ]
    }
   ],
   "source": [
    "print(\"Accuracy:\", sum(accuracy)/len(accuracy))\n",
    "print(\"Recall:\", sum(recall)/len(recall))"
   ]
  },
  {
   "cell_type": "markdown",
   "metadata": {},
   "source": [
    "### With visual features"
   ]
  },
  {
   "cell_type": "code",
   "execution_count": 44,
   "metadata": {},
   "outputs": [],
   "source": [
    "X = visual_df\n",
    "y = insta2['label']  #Labels"
   ]
  },
  {
   "cell_type": "code",
   "execution_count": 45,
   "metadata": {},
   "outputs": [],
   "source": [
    "clf = RandomForestClassifier(n_estimators=100, max_depth=2, random_state=0)"
   ]
  },
  {
   "cell_type": "code",
   "execution_count": 46,
   "metadata": {},
   "outputs": [],
   "source": [
    "accuracy = cross_val_score(clf, X, y, cv=10, scoring='accuracy')\n",
    "recall = cross_val_score(clf, X, y, cv=10, scoring='recall')"
   ]
  },
  {
   "cell_type": "code",
   "execution_count": 47,
   "metadata": {},
   "outputs": [
    {
     "name": "stdout",
     "output_type": "stream",
     "text": [
      "Accuracy: 0.8460071223013589\n",
      "Recall: 0.9983957219251336\n"
     ]
    }
   ],
   "source": [
    "print(\"Accuracy:\", sum(accuracy)/len(accuracy))\n",
    "print(\"Recall:\", sum(recall)/len(recall))"
   ]
  },
  {
   "cell_type": "markdown",
   "metadata": {},
   "source": [
    "## Discussion"
   ]
  },
  {
   "cell_type": "markdown",
   "metadata": {},
   "source": [
    "The experimental setup for the Machine Learning part is a Random Forest Classifier with 100 estimators, a max-depth of 2 and a 10-fold cross validation."
   ]
  },
  {
   "cell_type": "markdown",
   "metadata": {},
   "source": [
    "For the histograms of text features, we can see that if we exclude the _#switzerland_ (not relevant as this is one of the criterion to be part of the data), _beer_ and _wine_ are the hasthags the most used for alcoholic drinks when it is cafe and coffee that are the most used for non-alcoholic drinks (more used than _switzerland_, which is not the case for _beer_ and _wine_). What is surprising is that a lot of hashtags used for non-alcoholic drinks are related to Dubai and the Middle East (_dubai_, _mydubai_, _dubailadiesclub_, _dubaimarina_, _dubaistreetstyle_, _kuwait_, _abudhabi_, _bahrin_, ...), so we can wonder why these hashtags are used with _#switzerland_. Even if there are a lot of tourists from those countries that come in Switzerland, I do not see why they would use these hashtags if they drink a coffee in Switzerland (especially _#dubaimarina_ or _#mydubai_ because it cannot be used to show its affiliations to a country).\n",
    "For the alcoholic drinks, the most used hashatgs are less surprising as they are related to swiss cities (_zurich_, _geneva_, _lausanne_, _basel_), or to drinks and party (_champagne_, _dinner_, _bar_, _drinks_, _cocktails_, _happy_, ...)."
   ]
  },
  {
   "cell_type": "markdown",
   "metadata": {},
   "source": [
    "For the histograms of visual features, we can see that for each of the two categories, one visual feature is really dominating the plot. For the non-alcoholic drinks, it is an _expresso_, which is relevant with the text features as the most used hashtags are _cafe_ and _coffee_. For the alcoholic drinks, it is a _beer glass_, which is also relevant with the text features as the second most used hashtag is _beer_. Otherwise, the other visual features found are not really surprising and coherent with the objects/places you would expect to go with alcoholic and non-alcoholic drinks with the exception of _wig_ and _hair spray_ for the non-alcoholic drinks and _trifle_ and _dust cover_ for the alcoholic ones."
   ]
  },
  {
   "cell_type": "markdown",
   "metadata": {},
   "source": [
    "For the Machine Learning part, the classification is harder with the text feature as it only has an accuracy of 0.677 when it has an accuracy of 0.846 with the visual features.\n",
    "I was suprised that the accuracy obtained with text features is not higher than 0.67 as there are only two labels possible and than the most used hashtags at least do not intersect. It is probably due to the maximum depth allowed in the settings of the Random Forest Classifier, because if we try with a higher value (like 10), we reach an accuracy of 0.8, which is closer to the accuracy obtained with the visual features and a depth of 2. In fact, by looking at the histograms, I would have guess that the contrary would have happened as there are more intersection between the two classes for the visual features than for the text ones. As I mentionned before, one way of improving the model would be to increase the maximal depth of the random forest, because 2 is a really small depth and it does not really take advantage of the power of this classifier (with 2 it is closer to a simple decision tree rather than a real random forest)."
   ]
  },
  {
   "cell_type": "code",
   "execution_count": null,
   "metadata": {},
   "outputs": [],
   "source": []
  }
 ],
 "metadata": {
  "kernelspec": {
   "display_name": "Python 3",
   "language": "python",
   "name": "python3"
  },
  "language_info": {
   "codemirror_mode": {
    "name": "ipython",
    "version": 3
   },
   "file_extension": ".py",
   "mimetype": "text/x-python",
   "name": "python",
   "nbconvert_exporter": "python",
   "pygments_lexer": "ipython3",
   "version": "3.7.3"
  },
  "toc": {
   "base_numbering": 1,
   "nav_menu": {},
   "number_sections": true,
   "sideBar": true,
   "skip_h1_title": false,
   "title_cell": "Table of Contents",
   "title_sidebar": "Contents",
   "toc_cell": false,
   "toc_position": {},
   "toc_section_display": true,
   "toc_window_display": false
  }
 },
 "nbformat": 4,
 "nbformat_minor": 2
}
